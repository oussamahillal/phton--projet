{
 "cells": [
  {
   "cell_type": "code",
   "execution_count": 4,
   "id": "08f94dd4",
   "metadata": {},
   "outputs": [],
   "source": [
    "#partie1"
   ]
  },
  {
   "cell_type": "code",
   "execution_count": 1,
   "id": "0085e65b",
   "metadata": {},
   "outputs": [],
   "source": [
    "import numpy as np\n",
    "import matplotlib.pyplot as plt\n",
    "from collections import deque\n",
    "\n",
    "class Labyrinthe:\n",
    "    \n",
    "    def __init__(self, lignes, colonnes):\n",
    "        self.lignes = lignes\n",
    "        self.colonnes = colonnes\n",
    "        self.grille = np.zeros((lignes, colonnes), dtype=int)  # Initialise la grille avec toutes les cellules blanches\n",
    "\n",
    "    def generer_murs_aleatoires(self, nombre_murs):\n",
    "        for _ in range(nombre_murs):\n",
    "            ligne = np.random.randint(0, self.lignes)\n",
    "            colonne = np.random.randint(0, self.colonnes)\n",
    "            self.grille[ligne][colonne] = 1  # Définit la cellule comme un mur\n",
    "            \n",
    "    def afficher(self):\n",
    "        plt.figure(figsize=(6, 6))  # Définit la taille de la figure\n",
    "        plt.imshow(self.grille, cmap='binary')\n",
    "        \n",
    "        # Ajoute les lignes de la grille\n",
    "        for i in range(self.lignes + 1):\n",
    "            plt.axhline(i - 0.5, color='black', linewidth=2)  # Lignes horizontales entre les lignes #épaisseur de ligne de 2\n",
    "        for j in range(self.colonnes + 1):\n",
    "            plt.axvline(j - 0.5, color='black', linewidth=2)  # Lignes verticales entre les colonnes #épaisseur de colonnes de 2\n",
    "        plt.axis('off') # Cache les axes (à la fois x et y) de la grille\n",
    "        plt.show()\n",
    "    "
   ]
  },
  {
   "cell_type": "code",
   "execution_count": 2,
   "id": "1715c7bb",
   "metadata": {},
   "outputs": [
    {
     "name": "stdout",
     "output_type": "stream",
     "text": [
      "33\n"
     ]
    },
    {
     "data": {
      "image/png": "[encoded data removed]",
      "text/plain": [
       "<Figure size 600x600 with 1 Axes>"
      ]
     },
     "metadata": {},
     "output_type": "display_data"
    }
   ],
   "source": [
    "# Exemple d'utilisation :\n",
    "\n",
    "lignes = 10\n",
    "colonnes = 10\n",
    "nombre_murs = (lignes * colonnes) // 3\n",
    "print(nombre_murs)\n",
    "labyrinthe = Labyrinthe(lignes, colonnes)\n",
    "labyrinthe.generer_murs_aleatoires(nombre_murs)\n",
    "labyrinthe.afficher()"
   ]
  },
  {
   "cell_type": "code",
   "execution_count": null,
   "id": "eb0775e4",
   "metadata": {},
   "outputs": [],
   "source": [
    "#partie2"
   ]
  },
  {
   "cell_type": "code",
   "execution_count": 3,
   "id": "727f6744",
   "metadata": {},
   "outputs": [],
   "source": [
    "    def generer_murs_aleatoires(self, nombre_murs):\n",
    "        for _ in range(nombre_murs):\n",
    "            ligne = np.random.randint(0, self.lignes)\n",
    "            colonne = np.random.randint(0, self.colonnes)\n",
    "            self.grille[ligne][colonne] = 1  # Définit la cellule comme un mur\n",
    "            \n",
    "        if not self.est_connecte():  # Vérifie si les cases blanches ne sont pas connectées\n",
    "            print(\"Les cases blanches ne sont pas connectées. Relier automatiquement.\")\n",
    "            self.relier_cases_blanches()\n",
    "            \n",
    "    def est_connecte(self):\n",
    "        # Recherche une cellule blanche non visitée\n",
    "        def trouver_cellule_blanche_non_visitee():\n",
    "            for i in range(self.lignes):\n",
    "                for j in range(self.colonnes):\n",
    "                    if self.grille[i][j] == 0:  # Si c'est une cellule blanche non visitée\n",
    "                        return (i, j)\n",
    "            return None\n",
    "\n",
    "        # Fonction BFS pour explorer les cellules blanches connectées\n",
    "        def bfs(i, j):\n",
    "            queue = [(i, j)]\n",
    "            while queue:\n",
    "                i, j = queue.pop(0)\n",
    "                if self.grille[i][j] == 0:  # Si la cellule est blanche\n",
    "                    self.grille[i][j] = -1  # Marque la cellule comme visitée\n",
    "                    if i > 0:\n",
    "                        queue.append((i - 1, j))  # Voisin en haut\n",
    "                    if i < self.lignes - 1:\n",
    "                        queue.append((i + 1, j))  # Voisin en bas\n",
    "                    if j > 0:\n",
    "                        queue.append((i, j - 1))  # Voisin à gauche\n",
    "                    if j < self.colonnes - 1:\n",
    "                        queue.append((i, j + 1))  # Voisin à droite\n",
    "\n",
    "        # Vérifie la connectivité des cellules blanches\n",
    "        cellule_initiale = trouver_cellule_blanche_non_visitee()\n",
    "        if cellule_initiale is None:\n",
    "            return True  # Si aucune cellule blanche trouvée, alors toutes sont connectées\n",
    "        bfs(cellule_initiale[0], cellule_initiale[1])\n",
    "\n",
    "        # Vérifie si toutes les cellules blanches ont été visitées\n",
    "        for i in range(self.lignes):\n",
    "            for j in range(self.colonnes):\n",
    "                if self.grille[i][j] == 0:\n",
    "                    return False  # S'il reste des cellules blanches non visitées, les cellules ne sont pas connectées\n",
    "        return True  # Toutes les cellules blanches sont connectées\n",
    "\n",
    "    def trouver_voisins_blancs(self, i, j):\n",
    "        voisins = []\n",
    "        if i > 0 and self.grille[i - 1][j] == 0:\n",
    "            voisins.append((i - 1, j))  # Voisin en haut\n",
    "        if i < self.lignes - 1 and self.grille[i + 1][j] == 0:\n",
    "            voisins.append((i + 1, j))  # Voisin en bas\n",
    "        if j > 0 and self.grille[i][j - 1] == 0:\n",
    "            voisins.append((i, j - 1))  # Voisin à gauche\n",
    "        if j < self.colonnes - 1 and self.grille[i][j + 1] == 0:\n",
    "            voisins.append((i, j + 1))  # Voisin à droite\n",
    "        return voisins\n",
    "\n",
    "    def supprimer_mur_entre(self, cellule1, cellule2):\n",
    "        mur_i = (cellule1[0] + cellule2[0]) // 2\n",
    "        mur_j = (cellule1[1] + cellule2[1]) // 2\n",
    "        self.grille[mur_i][mur_j] = 0\n",
    "\n",
    "    def relier_cases_blanches(self):\n",
    "        while not self.est_connecte():\n",
    "            # Recherche des cellules blanches dans des composantes connexes différentes\n",
    "            composantes_connexes = []\n",
    "            for i in range(self.lignes):\n",
    "                for j in range(self.colonnes):\n",
    "                    if self.grille[i][j] == 0:\n",
    "                        voisins = self.trouver_voisins_blancs(i, j)\n",
    "                        composantes_connexes.append((i, j, len(voisins)))\n",
    "            if len(composantes_connexes) < 2:\n",
    "                break  # Il n'y a pas assez de composantes pour relier\n",
    "\n",
    "            # Trie les composantes par le nombre de voisins\n",
    "            composantes_connexes.sort(key=lambda x: x[2])\n",
    "\n",
    "            # Supprime un mur entre les deux composantes les moins connectées\n",
    "            cellule1 = (composantes_connexes[0][0], composantes_connexes[0][1])\n",
    "            cellule2 = (composantes_connexes[1][0], composantes_connexes[1][1])\n",
    "            self.supprimer_mur_entre(cellule1, cellule2)"
   ]
  },
  {
   "cell_type": "code",
   "execution_count": 4,
   "id": "da0c17d8",
   "metadata": {},
   "outputs": [
    {
     "name": "stdout",
     "output_type": "stream",
     "text": [
      "33\n"
     ]
    },
    {
     "data": {
      "image/png": "[encoded data removed]",
      "text/plain": [
       "<Figure size 600x600 with 1 Axes>"
      ]
     },
     "metadata": {},
     "output_type": "display_data"
    }
   ],
   "source": [
    "# Exemple d'utilisation :\n",
    "lignes = 10\n",
    "colonnes = 10\n",
    "nombre_murs = (lignes * colonnes) // 3\n",
    "print(nombre_murs)\n",
    "labyrinthe = Labyrinthe(lignes, colonnes)\n",
    "labyrinthe.generer_murs_aleatoires(nombre_murs)\n",
    "labyrinthe.afficher()"
   ]
  },
  {
   "cell_type": "code",
   "execution_count": null,
   "id": "610c8107",
   "metadata": {},
   "outputs": [],
   "source": [
    "#partie3 et partie5"
   ]
  },
  {
   "cell_type": "code",
   "execution_count": 1,
   "id": "161d4e6b",
   "metadata": {},
   "outputs": [],
   "source": [
    "import numpy as np\n",
    "import matplotlib.pyplot as plt\n",
    "from collections import deque\n",
    "\n",
    "class Labyrinthe:\n",
    "    def __init__(self, lignes, colonnes):\n",
    "        self.lignes = lignes\n",
    "        self.colonnes = colonnes\n",
    "        self.grille = np.zeros((lignes, colonnes), dtype=int)  # Initialise la grille avec toutes les cellules blanches\n",
    "\n",
    "    def generer_murs_aleatoires(self, nombre_murs):\n",
    "        for _ in range(nombre_murs):\n",
    "            ligne = np.random.randint(0, self.lignes)\n",
    "            colonne = np.random.randint(0, self.colonnes)\n",
    "            self.grille[ligne][colonne] = 1  # Définit la cellule comme un mur\n",
    "\n",
    "        while not self.est_connecte():  # Vérifie si les cases blanches sont connectées\n",
    "            print(\"Les cases blanches ne sont pas connectées. Relier automatiquement.\")\n",
    "            self.grille = np.zeros((self.lignes, self.colonnes), dtype=int)  # Réinitialise la grille\n",
    "            self.generer_murs_aleatoires(nombre_murs)  # Regénère les murs aléatoires\n",
    "\n",
    "    def afficher(self, depart=None, arrivee=None, chemins=None, chemin_plus_court=None):\n",
    "        plt.figure(figsize=(6, 6))  # Définit la taille de la figure\n",
    "        plt.imshow(self.grille, cmap='binary')\n",
    "        \n",
    "        # Ajoute les lignes de la grille\n",
    "        for i in range(self.lignes + 1):\n",
    "            plt.axhline(i - 0.5, color='black', linewidth=2)  # Lignes horizontales entre les lignes #épaisseur de ligne de 2\n",
    "        for j in range(self.colonnes + 1):\n",
    "            plt.axvline(j - 0.5, color='black', linewidth=2)  # Lignes verticales entre les colonnes #épaisseur de colonnes de 2\n",
    "\n",
    "        if depart:\n",
    "            plt.plot(depart[1], depart[0], 'go', markersize=10)  # Point de départ en vert\n",
    "        if arrivee:\n",
    "            plt.plot(arrivee[1], arrivee[0], 'ro', markersize=10)  # Point d'arrivée en rouge\n",
    "\n",
    "        if chemins:\n",
    "            for chemin in chemins:\n",
    "                chemin = np.array(chemin)\n",
    "                plt.plot(chemin[:, 1], chemin[:, 0], color='blue', linewidth=2)  # Trace les chemins en bleu\n",
    "\n",
    "        if chemin_plus_court:\n",
    "            chemin_plus_court = np.array(chemin_plus_court)\n",
    "            plt.plot(chemin_plus_court[:, 1], chemin_plus_court[:, 0], color='red', linewidth=2)  # Trace le chemin le plus court en rouge\n",
    "\n",
    "        plt.axis('off') # Cache les axes (à la fois x et y) de la grille\n",
    "        plt.show()\n",
    "\n",
    "    def placer_points_depart_arrivee(self):\n",
    "        depart_trouve = False\n",
    "        arrivee_trouvee = False\n",
    "        while not (depart_trouve and arrivee_trouvee):\n",
    "            depart = (np.random.randint(0, self.lignes), np.random.randint(0, self.colonnes))\n",
    "            arrivee = (np.random.randint(0, self.lignes), np.random.randint(0, self.colonnes))\n",
    "            if self.grille[depart[0]][depart[1]] == 0 and self.grille[arrivee[0]][arrivee[1]] == 0:\n",
    "                if self.est_chemin_accessible(depart, arrivee):\n",
    "                    depart_trouve = True\n",
    "                    arrivee_trouvee = True\n",
    "        return depart, arrivee\n",
    "\n",
    "    def est_chemin_accessible(self, depart, arrivee):\n",
    "        chemins = self.trouver_chemins_possibles(depart, arrivee)\n",
    "        return len(chemins) > 0\n",
    "\n",
    "    def est_connecte(self):\n",
    "        def bfs(i, j):\n",
    "            queue = deque([(i, j)])\n",
    "            visited = set()\n",
    "            while queue:\n",
    "                i, j = queue.popleft()\n",
    "                if (i, j) not in visited:\n",
    "                    visited.add((i, j))\n",
    "                    if i > 0 and self.grille[i - 1][j] == 0:\n",
    "                        queue.append((i - 1, j))\n",
    "                    if i < self.lignes - 1 and self.grille[i + 1][j] == 0:\n",
    "                        queue.append((i + 1, j))\n",
    "                    if j > 0 and self.grille[i][j - 1] == 0:\n",
    "                        queue.append((i, j - 1))\n",
    "                    if j < self.colonnes - 1 and self.grille[i][j + 1] == 0:\n",
    "                        queue.append((i, j + 1))\n",
    "            return len(visited) == sum(sum(row == 0 for row in self.grille))\n",
    "\n",
    "        cellule_initiale = (0, 0)\n",
    "        return bfs(*cellule_initiale)\n",
    "\n",
    "    def relier_cases_blanches(self):\n",
    "        def bfs(i, j):\n",
    "            queue = deque([(i, j)])\n",
    "            visited = set()\n",
    "            while queue:\n",
    "                i, j = queue.popleft()\n",
    "                if (i, j) not in visited:\n",
    "                    visited.add((i, j))\n",
    "                    if i > 0 and self.grille[i - 1][j] == 0:\n",
    "                        queue.append((i - 1, j))\n",
    "                    if i < self.lignes - 1 and self.grille[i + 1][j] == 0:\n",
    "                        queue.append((i + 1, j))\n",
    "                    if j > 0 and self.grille[i][j - 1] == 0:\n",
    "                        queue.append((i, j - 1))\n",
    "                    if j < self.colonnes - 1 and self.grille[i][j + 1] == 0:\n",
    "                        queue.append((i, j + 1))\n",
    "\n",
    "        while not self.est_connecte():\n",
    "            cellule1 = (np.random.randint(0, self.lignes), np.random.randint(0, self.colonnes))\n",
    "            cellule2 = (np.random.randint(0, self.lignes), np.random.randint(0, self.colonnes))\n",
    "            self.supprimer_mur_entre(cellule1, cellule2)\n",
    "\n",
    "    def trouver_chemins_possibles(self, depart, arrivee):\n",
    "        def dfs(i, j, chemin):\n",
    "            if (i, j) == arrivee:\n",
    "                chemins.append(chemin)\n",
    "                return\n",
    "            for di, dj in [(0, -1), (0, 1), (-1, 0), (1, 0)]:\n",
    "                ni, nj = i + di, j + dj\n",
    "                if 0 <= ni < self.lignes and 0 <= nj < self.colonnes and self.grille[ni][nj] == 0 and (ni, nj) not in chemin:\n",
    "                    dfs(ni, nj, chemin + [(ni, nj)])\n",
    "\n",
    "        chemins = []\n",
    "        dfs(*depart, [depart])\n",
    "        return chemins\n",
    "\n",
    "    def supprimer_mur_entre(self, cellule1, cellule2):\n",
    "        ci, cj = cellule1\n",
    "        ni, nj = cellule2\n",
    "        self.grille[(ci + ni) // 2][(cj + nj) // 2] = 0\n",
    "\n"
   ]
  },
  {
   "cell_type": "code",
   "execution_count": 2,
   "id": "a775117a",
   "metadata": {},
   "outputs": [
    {
     "name": "stdout",
     "output_type": "stream",
     "text": [
      "Les cases blanches ne sont pas connectées. Relier automatiquement.\n"
     ]
    },
    {
     "data": {
      "image/png": "[encoded data removed]",
      "text/plain": [
       "<Figure size 600x600 with 1 Axes>"
      ]
     },
     "metadata": {},
     "output_type": "display_data"
    }
   ],
   "source": [
    "# Exemple d'utilisation :\n",
    "lignes = 10\n",
    "colonnes = 10\n",
    "nombre_murs = (lignes * colonnes) // 3\n",
    "labyrinthe = Labyrinthe(lignes, colonnes)\n",
    "labyrinthe.generer_murs_aleatoires(nombre_murs)\n",
    "depart, arrivee = labyrinthe.placer_points_depart_arrivee()\n",
    "chemins = labyrinthe.trouver_chemins_possibles(depart, arrivee)\n",
    "chemin_plus_court = min(chemins, key=len)\n",
    "labyrinthe.afficher(depart, arrivee, chemins, chemin_plus_court)"
   ]
  },
  {
   "cell_type": "code",
   "execution_count": null,
   "id": "dfaedaef",
   "metadata": {},
   "outputs": [],
   "source": [
    "#partie4 "
   ]
  },
  {
   "cell_type": "code",
   "execution_count": 3,
   "id": "12e91b96",
   "metadata": {},
   "outputs": [
    {
     "name": "stdout",
     "output_type": "stream",
     "text": [
      "Entrez le nombre de lignes : 5\n",
      "Entrez le nombre de colonnes : 5\n",
      "Entrez votre nom d'utilisateur : oussama\n",
      "Les cases blanches ne sont pas connectées. Relier automatiquement.\n",
      "Les cases blanches ne sont pas connectées. Relier automatiquement.\n",
      "Grille initiale :\n"
     ]
    },
    {
     "data": {
      "image/png": "[encoded data removed]",
      "text/plain": [
       "<Figure size 600x600 with 1 Axes>"
      ]
     },
     "metadata": {},
     "output_type": "display_data"
    },
    {
     "name": "stdout",
     "output_type": "stream",
     "text": [
      "Grille finale avec les chemins :\n"
     ]
    },
    {
     "data": {
      "image/png": "[encoded data removed]",
      "text/plain": [
       "<Figure size 600x600 with 1 Axes>"
      ]
     },
     "metadata": {},
     "output_type": "display_data"
    },
    {
     "data": {
      "text/plain": [
       "<Figure size 640x480 with 0 Axes>"
      ]
     },
     "metadata": {},
     "output_type": "display_data"
    }
   ],
   "source": [
    "# Exemple d'utilisation :\n",
    "lignes = int(input(\"Entrez le nombre de lignes : \"))\n",
    "colonnes = int(input(\"Entrez le nombre de colonnes : \"))\n",
    "nombre_murs = (lignes * colonnes) // 3\n",
    "nom_utilisateur = input(\"Entrez votre nom d'utilisateur : \")\n",
    "\n",
    "labyrinthe = Labyrinthe(lignes, colonnes)\n",
    "labyrinthe.generer_murs_aleatoires(nombre_murs)\n",
    "depart, arrivee = labyrinthe.placer_points_depart_arrivee()\n",
    "chemins = labyrinthe.trouver_chemins_possibles(depart, arrivee)\n",
    "chemin_plus_court = min(chemins, key=len)\n",
    "\n",
    "# Afficher la grille initiale\n",
    "print(\"Grille initiale :\")\n",
    "labyrinthe.afficher()\n",
    "\n",
    "# Afficher la grille finale avec les chemins\n",
    "print(\"Grille finale avec les chemins :\")\n",
    "labyrinthe.afficher(depart, arrivee, chemins, chemin_plus_court)\n",
    "\n",
    "# Enregistrer la figure dans un fichier image\n",
    "plt.savefig(f\"{nom_utilisateur}_labyrinthe.png\")\n"
   ]
  },
  {
   "cell_type": "code",
   "execution_count": null,
   "id": "cb57231d",
   "metadata": {},
   "outputs": [],
   "source": []
  }
 ],
 "metadata": {
  "kernelspec": {
   "display_name": "Python 3 (ipykernel)",
   "language": "python",
   "name": "python3"
  },
  "language_info": {
   "codemirror_mode": {
    "name": "ipython",
    "version": 3
   },
   "file_extension": ".py",
   "mimetype": "text/x-python",
   "name": "python",
   "nbconvert_exporter": "python",
   "pygments_lexer": "ipython3",
   "version": "3.11.5"
  }
 },
 "nbformat": 4,
 "nbformat_minor": 5
}
